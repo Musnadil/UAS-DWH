{
  "nbformat": 4,
  "nbformat_minor": 0,
  "metadata": {
    "colab": {
      "name": "DWH.ipynb",
      "provenance": [],
      "toc_visible": true
    },
    "kernelspec": {
      "name": "python3",
      "display_name": "Python 3"
    },
    "language_info": {
      "name": "python"
    }
  },
  "cells": [
    {
      "cell_type": "markdown",
      "source": [
        "#Connect Drive"
      ],
      "metadata": {
        "id": "VaFn99Tz366z"
      }
    },
    {
      "cell_type": "code",
      "source": [
        "from google.colab import drive\n",
        "drive.mount('/content/drive')"
      ],
      "metadata": {
        "colab": {
          "base_uri": "https://localhost:8080/"
        },
        "id": "8GbtBL9G3iZl",
        "outputId": "fa10f701-0a71-4411-b511-0951635f4d8e"
      },
      "execution_count": 1,
      "outputs": [
        {
          "output_type": "stream",
          "name": "stdout",
          "text": [
            "Mounted at /content/drive\n"
          ]
        }
      ]
    },
    {
      "cell_type": "code",
      "source": [
        "#mengarahkan ke folder penyimpanan fakta penjualan.csv \n",
        "%cd '/content/drive/MyDrive/KULIAH/SMT5/Data Warehouse'"
      ],
      "metadata": {
        "colab": {
          "base_uri": "https://localhost:8080/"
        },
        "id": "ZAVlTy944DLK",
        "outputId": "ea5e3e43-eabd-4e8f-8660-868e44a541c3"
      },
      "execution_count": 2,
      "outputs": [
        {
          "output_type": "stream",
          "name": "stdout",
          "text": [
            "/content/drive/MyDrive/KULIAH/SMT5/Data Warehouse\n"
          ]
        }
      ]
    },
    {
      "cell_type": "markdown",
      "source": [
        "# Membaca Data"
      ],
      "metadata": {
        "id": "8BFKoE-A4vZi"
      }
    },
    {
      "cell_type": "code",
      "execution_count": 3,
      "metadata": {
        "id": "V1k4Qnb-lDQF"
      },
      "outputs": [],
      "source": [
        "import pandas as pd \n",
        "import numpy as np \n",
        "import matplotlib.pyplot as plt "
      ]
    },
    {
      "cell_type": "code",
      "source": [
        "data = pd.read_csv('fakta_penjualan (1).csv') #membaca data\n",
        "X = data.iloc[:, 0] #mengambil data tanggal\n",
        "Y = data.iloc[:, 1] #mengambil data amount\n",
        "\n",
        "#visualisasi data\n",
        "plt.rcParams['figure.figsize'] = (12.0, 9.0)\n",
        "plt.scatter(X, Y)\n",
        "plt.show()"
      ],
      "metadata": {
        "colab": {
          "base_uri": "https://localhost:8080/",
          "height": 550
        },
        "id": "XyZALHeZ3dHS",
        "outputId": "574f3de8-3d2d-4ffe-e613-02a22da26e10"
      },
      "execution_count": 4,
      "outputs": [
        {
          "output_type": "display_data",
          "data": {
            "image/png": "[encoded data removed]",
            "text/plain": [
              "<Figure size 864x648 with 1 Axes>"
            ]
          },
          "metadata": {
            "needs_background": "light"
          }
        }
      ]
    },
    {
      "cell_type": "markdown",
      "source": [
        "# Perhitungan"
      ],
      "metadata": {
        "id": "MzYIU9TD4xY1"
      }
    },
    {
      "cell_type": "markdown",
      "source": [
        "## Menentukan m dan c"
      ],
      "metadata": {
        "id": "yzp1Tt6k47gt"
      }
    },
    {
      "cell_type": "code",
      "source": [
        "# Building the model\n",
        "X_mean = np.mean(X) #rata-rata tanggal\n",
        "Y_mean = np.mean(Y) #rata-rata amount\n",
        "\n",
        "num = 0 #data tampungan num untuk menghasilkan XY\n",
        "den = 0 #data tampungan den untuk mengahsilkan X^2\n",
        "\n",
        "#perulangan perhitungan XY dan X^2\n",
        "for i in range(len(X)):\n",
        "    num += (X[i] - X_mean)*(Y[i] - Y_mean)\n",
        "    den += (X[i] - X_mean)**2\n",
        "\n",
        "#perhitungan a dan b\n",
        "m = num / den\n",
        "c = Y_mean - m*X_mean\n",
        "\n",
        "print (m, c)"
      ],
      "metadata": {
        "colab": {
          "base_uri": "https://localhost:8080/"
        },
        "id": "DPud3NtY3gA0",
        "outputId": "eb07288e-18fd-4ade-86d6-7e4faa25e02f"
      },
      "execution_count": 5,
      "outputs": [
        {
          "output_type": "stream",
          "name": "stdout",
          "text": [
            "-0.0003758148911106377 37018.21500930723\n"
          ]
        }
      ]
    },
    {
      "cell_type": "markdown",
      "source": [
        "## Testing prediksi"
      ],
      "metadata": {
        "id": "SfnR4uZS5Fa8"
      }
    },
    {
      "cell_type": "code",
      "source": [
        "#Testing\n",
        "#Prediksi tgl 31-08-2022\n",
        "input =31082022 #inputan\n",
        "Y_pred = m*input + c\n",
        "print('Hasil Prediksi : ', round(Y_pred))"
      ],
      "metadata": {
        "id": "GRE045OI5HZs",
        "outputId": "7fa49f88-acb5-4ab8-86d9-a2106848554a",
        "colab": {
          "base_uri": "https://localhost:8080/"
        }
      },
      "execution_count": 6,
      "outputs": [
        {
          "output_type": "stream",
          "name": "stdout",
          "text": [
            "Hasil Prediksi :  25337\n"
          ]
        }
      ]
    },
    {
      "cell_type": "code",
      "source": [
        ""
      ],
      "metadata": {
        "id": "KMwNyLxC5H4y"
      },
      "execution_count": null,
      "outputs": []
    }
  ]
}